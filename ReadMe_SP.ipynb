{
 "cells": [
  {
   "attachments": {},
   "cell_type": "markdown",
   "id": "9d50315f",
   "metadata": {},
   "source": [
    "<h1> Relational Join </h1>"
   ]
  },
  {
   "cell_type": "markdown",
   "id": "d9dd1493",
   "metadata": {},
   "source": [
    "<h3> Background </h3>"
   ]
  },
  {
   "cell_type": "markdown",
   "id": "1b030f32",
   "metadata": {},
   "source": [
    "In relational database systems, vast information is often divided and stored into multiple tables to achieve operational efficiencies. These tables are named relational tables as they have one-to-one or one-to-many relationships between them. A relational join is a command in Structured Query Language (SQL) to extract meaningful information. It combines multiple relational tables by column and returns a new output table with related rows. The column(s) used to combine these tables are called keys.\n",
    "\n"
   ]
  },
  {
   "cell_type": "markdown",
   "id": "15c1b93f",
   "metadata": {},
   "source": [
    "<h3> Aim of this Project </h3>"
   ]
  },
  {
   "cell_type": "markdown",
   "id": "afc9b508",
   "metadata": {},
   "source": [
    "Goal is to:\n",
    "1.  Introduce basic types of joins and provide examples of few tables manipulation with SQL queries. \n",
    "2.  Cover how to make connection with database through python which is the platform we are using to access relational tables.\n",
    "3.  And will also introduce three tables join\n",
    "\n",
    "For additional information, see our [Jupyter Notebook](https://github.com/mveele/SQL_join_comms/blob/main/comms_project.ipynb)."
   ]
  },
  {
   "cell_type": "markdown",
   "id": "1b502e90",
   "metadata": {},
   "source": [
    "<h3> Index </h3>"
   ]
  },
  {
   "cell_type": "markdown",
   "id": "f1ba3084",
   "metadata": {},
   "source": [
    "[Structured Query Langauge (SQL)](#SQL) \n",
    "\n",
    "[Types of Joins](#Joins)\n",
    "\n",
    "[Python Packages and Functions](#package)\n",
    "\n",
    "[Connection with database](#Python)\n",
    "\n",
    "[Tables Used and Creation](#tables)\n",
    "\n",
    "[Two Tables Join](#examples2)\n",
    "\n",
    "[Three Tables Join](#example3)\n",
    "\n",
    "[One-to-many and Many-to-Many Joins](#ex_otm_mtm)\n",
    "\n",
    "[Jupter Notebook](#Notebook_Link)\n",
    "\n",
    "[Practice Material](#practice_Link)"
   ]
  },
  {
   "cell_type": "markdown",
   "id": "24a4b9df",
   "metadata": {},
   "source": [
    "<h3> Structured Query Langauge (SQL) </h3>\n",
    "<a id=\"SQL\"></a>"
   ]
  },
  {
   "cell_type": "markdown",
   "id": "e491d6b6",
   "metadata": {},
   "source": [
    "SQL (Structured Query Language) is a standardized programming language that's used to manage relational databases and perform various operations on the data in them.\n",
    "The uses of SQL include modifying database table and index structures; adding, updating and deleting rows of data; and retrieving subsets of information from within a database.\n",
    "ommonly used SQL statements include select, add, insert, update, delete, create, alter and truncate.\n",
    "\n",
    "We are using here Postges SQL language.\n",
    "\n",
    "General Syntax:\n",
    "\n",
    "This query will select all rows from 'transactions' where values in column 'id' is 10.\n",
    "\n",
    "```sql\n",
    "SELECT * FROM transactions WHERE id = 10;\n",
    "```\n",
    "\n",
    "Join Syntax:\n",
    "\n",
    "```sql\n",
    "SELECT column_name(s)\n",
    "FROM table1\n",
    "JOIN table2 ON table1.column_name = table2.column_name;\n",
    "```"
   ]
  },
  {
   "cell_type": "markdown",
   "id": "ac5feb27",
   "metadata": {},
   "source": [
    "<h2> Types of Joins </h2>\n",
    "\n",
    "<a id=\"Joins\"></a>"
   ]
  },
  {
   "cell_type": "markdown",
   "id": "f6fdbd8b",
   "metadata": {},
   "source": [
    "<h3> Inner Join </h3>\n",
    "\n",
    "Returns records that have matching values in both tables\n",
    "\n",
    "<img src=\"https://github.com/mveele/SQL_join_comms/blob/main/images/inner_join.png\" alt=\"drawing\" width=\"200\"/>\n",
    "\n",
    "\n",
    "```sql\n",
    "SELECT column_name(s)\n",
    "FROM table1\n",
    "INNER JOIN table2 ON table1.column_name = table2.column_name;\n",
    "```\n",
    "\n",
    "<br>"
   ]
  },
  {
   "cell_type": "markdown",
   "id": "b47b9bc3",
   "metadata": {},
   "source": [
    "<h3> Left Join </h3>\n",
    "\n",
    "Returns all records from the left table (table1)and the matched records from the right table (table2).The result is NULL from the right side, if there is no match.\n",
    "\n",
    "<img src=\"https://github.com/mveele/SQL_join_comms/blob/main/images/left_join.png\" alt=\"drawing\" width=\"200\"/>\n",
    "\n",
    "\n",
    "```sql\n",
    "SELECT column_name(s)\n",
    "FROM table1\n",
    "LEFT JOIN table2 ON table1.column_name = table2.column_name;\n",
    "```\n",
    "\n",
    "<br>"
   ]
  },
  {
   "cell_type": "markdown",
   "id": "7c7218e3",
   "metadata": {},
   "source": [
    "<h3> Right Join </h3>\n",
    "\n",
    "The right Join is similar to left join except that it returns all records from the right table (table2), and the matched records from the left table (table1). The result is NULL from the left side, when there is no match.\n",
    "\n",
    "\n",
    "<img src=\"https://github.com/mveele/SQL_join_comms/blob/main/images/right_join.png\" alt=\"drawing\" width=\"200\"/>\n",
    "\n",
    "\n",
    "```sql\n",
    "SELECT column_name(s)\n",
    "FROM table1\n",
    "RIGHT JOIN table2 ON table1.column_name = table2.column_name;\n",
    "```\n",
    "\n",
    "<br>"
   ]
  },
  {
   "cell_type": "markdown",
   "id": "68386c70",
   "metadata": {},
   "source": [
    "<h3> Full Outer Join </h3>\n",
    "\n",
    "Returns all records when there is a match in either left (table1) or right (table2) table records.\n",
    "\n",
    "<img src=\"https://github.com/mveele/SQL_join_comms/blob/main/images/full_join.png\" alt=\"drawing\" width=\"200\"/>\n",
    "\n",
    "\n",
    "```sql\n",
    "SELECT name, dust_costs.cost AS dust_cost\n",
    "  FROM dust_costs\n",
    "  FULL OUTER JOIN basic_cards on dust_costs.card_id = basic_cards.card_id;\n",
    "```\n",
    "\n",
    "<br>"
   ]
  },
  {
   "cell_type": "markdown",
   "id": "2a8ff8ec",
   "metadata": {},
   "source": [
    "<h2> Python Packages and Functions </h2>\n",
    "\n",
    "<a id=\"package\"></a>"
   ]
  },
  {
   "cell_type": "markdown",
   "id": "cfb2a8ba",
   "metadata": {},
   "source": [
    "In-Built Packages\n",
    "\n",
    "1. <i><u> psycopg2 </u></i> - for making Python connection with database\n",
    "2.<i><u>  pandas </u></i>- for manipulation \n",
    "3. <i><u>   numpy </u></i>- for basic operations\n",
    "4. <i><u>  IPython.core.display </u></i>- for displaying table visuals in notebook\n",
    "\n",
    "Created Functions\n",
    "1. <i><u>  display_side_by_side</u></i> - for dsiplaying tables using html side by side.\n",
    "2. <i><u>  hide_toggle</u></i> - for hiding few cells"
   ]
  },
  {
   "cell_type": "markdown",
   "id": "b6076515",
   "metadata": {},
   "source": [
    "\n",
    "\n",
    "<h2> Connection with database  </h2>\n",
    "\n",
    "<a id=\"Python\"></a>\n"
   ]
  },
  {
   "cell_type": "markdown",
   "id": "24cf1a40",
   "metadata": {},
   "source": [
    "A. Connect to database with host name, database name and user credentials and create a cursor\n",
    "\n",
    "```python\n",
    "conn = psycopg2.connect(host=host, port=port, database=database, user=user)\n",
    "cur = conn.cursor()\n",
    "```\n",
    "\n",
    "B. Fetching table and storing as pandas dataframe\n",
    "\n",
    "```python\n",
    "df = pd.read_sql_query(query, conn, coerce_float=False)\n",
    "```\n",
    "\n",
    "C. Execution of a query using cursor \n",
    "```python\n",
    "cur.execute(query) \n",
    "```\n",
    "\n",
    "D. Close connection in the end\n",
    "```python\n",
    "cur.close()\n",
    "conn.close() \n",
    "```\n"
   ]
  },
  {
   "cell_type": "markdown",
   "id": "63f0a590",
   "metadata": {},
   "source": [
    "\n",
    "<h2> Tables Used and Creation </h2>\n",
    "\n",
    "<a id=\"tables\"></a>"
   ]
  },
  {
   "cell_type": "markdown",
   "id": "4f2e4969",
   "metadata": {},
   "source": [
    "Three tables are used in notebook named: names, transactions, dob \n",
    "\n",
    "<b> Table : Names </b>\n",
    "\n",
    "\n",
    "\tid\tname\n",
    "\t1\tJon Smith\n",
    "\t2\tSarah Adams\n",
    "\t3\tMaria Lopez     \n",
    "\n",
    "\n",
    "<b> Table : Transactions </b>\n",
    "\n",
    "\n",
    "\tid\tamount\n",
    "\t1\t10\n",
    "\t3\t20\n",
    "\t7\t50\n",
    "\n",
    "\n",
    "<b> Table : Dob </b>\n",
    "\n",
    "\n",
    "\tid\tdob\n",
    "\t1\t1982-09-29\n",
    "\t3\t1996-02-1\n",
    "    \n",
    "    \n",
    "    \n",
    "\n",
    "<b> Example Syntax for Table Creation </b>\n",
    "\n",
    "```sql\n",
    "CREATE TABLE names\n",
    "(id INTEGER,\n",
    "name VARCHAR,\n",
    "PRIMARY KEY (id));\n",
    "```\n",
    "\n",
    "```sql\n",
    "INSERT INTO names\n",
    "VALUES\n",
    "(1, 'Jon Smith'),\n",
    "(2, 'Sarah Adams'),\n",
    "(3, 'Maria Lopez');\n",
    "```\n"
   ]
  },
  {
   "cell_type": "markdown",
   "id": "a5aaaa45",
   "metadata": {},
   "source": [
    "<h2> Two Tables Join  </h2>\n",
    "\n",
    "<a id=\"examples2\"></a>\n"
   ]
  },
  {
   "cell_type": "markdown",
   "id": "69bbb349",
   "metadata": {},
   "source": [
    "<b> Inner join example </b>\n",
    "\n",
    "Tables name and transactions are inner joined based on common column 'id' and columns from both tables: id, name, amount are fetched for all rows matched in both tables.\n",
    "\n",
    "```sql\n",
    "SELECT  \n",
    "names.id, \n",
    "names.name, \n",
    "transactions.amount\n",
    "FROM names \n",
    "INNER JOIN transactions\n",
    "ON (names.id = transactions.id)\n",
    "```\n",
    "\n",
    "<b> Output Table </b>\n",
    "\n",
    "<img src=\"https://github.com/mveele/SQL_join_comms/blob/surbhi33-patch-1/images/Inner.png\" alt=\"drawing\" width=\"200\"/>\n",
    "\n",
    "\tid\tname\t      amount\n",
    "\t 1\tJon Smith\t  10\n",
    "\t 3\tMaria Lopez\t20\n",
    "    \n",
    "\n",
    "<b> Left join example </b>\n",
    "\n",
    "Tables name and transactions are inner joined based on common column 'id' and columns from both tables: id, name, amount are fetched for all rows matched in both tables.\n",
    "\n",
    "```sql\n",
    "SELECT  \n",
    "names.id, \n",
    "names.name, \n",
    "transactions.amount\n",
    "FROM names \n",
    "LEFT JOIN transactions\n",
    "ON (names.id = transactions.id)\n",
    "```\n",
    "\n",
    "<b> Output Table </b>\n",
    "\n",
    "<img src=\"https://github.com/mveele/SQL_join_comms/blob/surbhi33-patch-1/images/Left.png\" alt=\"drawing\" width=\"200\"/>\n",
    "\n",
    "\tid\tname\t       amount\n",
    "\t 1\tJon Smith\t   10\n",
    "\t 2\tSarah Adams\t null\n",
    "\t 3\tMaria Lopez\t 20"
   ]
  },
  {
   "cell_type": "markdown",
   "id": "e2282c63",
   "metadata": {},
   "source": [
    "\n",
    "<h2> Three Tables Join  </h2>\n",
    "\n",
    "<a id=\"example3\"></a>\n"
   ]
  },
  {
   "cell_type": "markdown",
   "id": "0311ced2",
   "metadata": {},
   "source": [
    "<b> Inner join example </b>\n",
    "\n",
    "Tables name ,transactions and dob are inner joined based on common column 'id' and columns from all three tables tables: id, name, amount and dob are fetched for all rows matched in both tables.\n",
    "\n",
    "```sql\n",
    "SELECT  \n",
    "names.id, \n",
    "names.name, \n",
    "transactions.amount, \n",
    "dob_table.dob\n",
    "FROM names\n",
    "INNER JOIN transactions\n",
    "ON (names.id = transactions.id)\n",
    "INNER JOIN dob_table\n",
    "ON (names.id = dob_table.id)\n",
    "\n",
    "```\n",
    "\n",
    "<b> Output Table </b>\n",
    "\n",
    "<img src=\"https://github.com/mveele/SQL_join_comms/blob/surbhi33-patch-1/images/Three.png\" alt=\"drawing\" width=\"200\"/>\n",
    "\n",
    "\tid\tname\t      amount\tdob\n",
    "\t1\tJon Smith\t  10\t  1982-09-29\n",
    "\t3\tMaria Lopez\t20\t  1996-02-16"
   ]
  },
  {
   "cell_type": "markdown",
   "id": "2674f92d",
   "metadata": {},
   "source": [
    "\n",
    "    \n",
    "<h2> One-to-many and Many-to-Many Joins  </h2>\n",
    "\n",
    "<a id=\"ex_otm_mtm\"></a>\n",
    "\n",
    "    "
   ]
  },
  {
   "cell_type": "markdown",
   "id": "8420f8ef",
   "metadata": {},
   "source": [
    "So far, we have seen one-to-one joins means there was no duplicate of ids in any of table (no two rows have same id). But in reality, there is possibility of an id having multiple records in a table. \n",
    "\n",
    "The query to do manipulation stays same but the output would change in which the rows will be returned as many times as ids are duplicated in the tables. \n",
    "\n",
    "Refer to below image for understanding.\n",
    "\n",
    "<img src=\"https://github.com/mveele/SQL_join_comms/blob/surbhi33-patch-1/images/one_to_one.png\" alt=\"drawing\" \n",
    "width=\"200\"/>\n",
    "     \n",
    "The only difference between one-to-many and many-to-many is that many-to-many has duplicate rows in both tables joined due to which the total rows in output table will have cartesian product of number of fuplicate rows in both tables.\n",
    "\n",
    "<b> Example of One-to-Many </b> \n",
    "\n",
    "Table Transaction with duplicate ids.\n",
    "\n",
    "<img src=\"https://github.com/mveele/SQL_join_comms/blob/surbhi33-patch-1/images/Long_trans.png\" alt=\"drawing\" width=\"200\"/>\n",
    "\n",
    "Output Table\n",
    "\n",
    "<img src=\"https://github.com/mveele/SQL_join_comms/blob/surbhi33-patch-1/images/one2one_out.png\" alt=\"drawing\" width=\"200\"/>\n",
    "\n",
    "Here, id =1 duplicated two tables as transaction table had two rows with id=1.\n",
    "\n",
    "\n"
   ]
  },
  {
   "cell_type": "markdown",
   "id": "c5a49a2f",
   "metadata": {},
   "source": [
    "\n",
    "<h2> Jupter Notebook  </h2>\n",
    "\n",
    "<a id=\"Notebook_Link\"></a>\n"
   ]
  },
  {
   "cell_type": "markdown",
   "id": "f58a607d",
   "metadata": {},
   "source": [
    "For more info and examples using concrete data, please see our [Notebook](https://github.com/mveele/SQL_join_comms/blob/main/comms_project.ipynb).\n",
    "\n",
    "It has one example each for all types of joins and also covers three tables join. It further gives example of one to many an many to one joins as well."
   ]
  },
  {
   "cell_type": "markdown",
   "id": "015af44b",
   "metadata": {},
   "source": [
    "    \n",
    "<h2> Practice Material  </h2>\n",
    "\n",
    "<a id=\"practice_Link\"></a>\n"
   ]
  },
  {
   "cell_type": "markdown",
   "id": "7567328c",
   "metadata": {},
   "source": [
    "For further practice, you can refer to:\n",
    "\n",
    "A. [41 Essential SQL Questions](https://www.toptal.com/sql/interview-questions)\n",
    "\n",
    "B. [SQL HackerRank Challenges](https://www.hackerrank.com/domains/sql)\n"
   ]
  }
 ],
 "metadata": {
  "kernelspec": {
   "display_name": "Python 3 (ipykernel)",
   "language": "python",
   "name": "python3"
  },
  "language_info": {
   "codemirror_mode": {
    "name": "ipython",
    "version": 3
   },
   "file_extension": ".py",
   "mimetype": "text/x-python",
   "name": "python",
   "nbconvert_exporter": "python",
   "pygments_lexer": "ipython3",
   "version": "3.8.11"
  }
 },
 "nbformat": 4,
 "nbformat_minor": 5
}
